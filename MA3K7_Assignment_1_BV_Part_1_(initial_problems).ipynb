{
 "cells": [
  {
   "cell_type": "code",
   "execution_count": 4,
   "metadata": {
    "colab": {
     "base_uri": "https://localhost:8080/"
    },
    "id": "rpdNoL9U_LBq",
    "outputId": "417db618-b71f-41ee-ab56-897cf21edce1"
   },
   "outputs": [
    {
     "name": "stdout",
     "output_type": "stream",
     "text": [
      "current bracelet: [1, 2, 3, 5, 8, 3, 1, 4, 5, 9, 4, 3, 7, 0, 7, 7, 4, 1, 5, 6, 1, 7, 8, 5, 3, 8, 1, 9, 0, 9, 9, 8, 7, 5, 2, 7, 9, 6, 5, 1, 6, 7, 3, 0, 3, 3, 6, 9, 5, 4, 9, 3, 2, 5, 7, 2, 9, 1, 0, 1, 1, 2]\n",
      "current bracelet length: 60\n"
     ]
    }
   ],
   "source": [
    "#we initialise the bracelet using the first 2 values which will give a unique bracelet\n",
    "bracelet = [1,2]\n",
    "\n",
    "#allows us to generate the bracelet by looping until we get back to the 2 intial values used to generate the bracelet\n",
    "looping = True\n",
    "\n",
    "#generation of the bracelet\n",
    "while looping == True:\n",
    "  bracelet.append((bracelet[-1]+bracelet[-2]) % 10)\n",
    "  if bracelet[0] == bracelet[-2] and bracelet[1] == bracelet[-1]:\n",
    "    looping = False\n",
    "\n",
    "#output of the bracelet and the \"length\" of the bracelet\n",
    "print(f\"current bracelet: {bracelet}\")\n",
    "print(f\"current bracelet length: {len(bracelet)-2}\")"
   ]
  },
  {
   "cell_type": "code",
   "execution_count": 5,
   "metadata": {
    "id": "6U72RF0eC7iP"
   },
   "outputs": [],
   "source": [
    "#intialising 2d array with all 100 possible initial values\n",
    "list_of_bracelets = []\n",
    "\n",
    "for i in range(10):\n",
    "  for j in range(10):\n",
    "    list_of_bracelets.append([i,j])\n",
    "\n",
    "#generating all possible bracelets from the 100 possible initial values\n",
    "for i in range(100):\n",
    "  looping = True\n",
    "\n",
    "  while looping == True:\n",
    "    list_of_bracelets[i].append((list_of_bracelets[i][-1]+list_of_bracelets[i][-2]) % 10)\n",
    "    for j in range(len(list_of_bracelets[i])-2):\n",
    "      if list_of_bracelets[i][j] == list_of_bracelets[i][-2] and list_of_bracelets[i][j+1] == list_of_bracelets[i][-1]:\n",
    "        looping = False"
   ]
  },
  {
   "cell_type": "code",
   "execution_count": 6,
   "metadata": {
    "colab": {
     "base_uri": "https://localhost:8080/"
    },
    "id": "aY86EYdsN4DH",
    "outputId": "f64437ef-d7cd-44d0-89f7-0795d65dcad9"
   },
   "outputs": [
    {
     "name": "stdout",
     "output_type": "stream",
     "text": [
      "6\n",
      "0 0 1\n",
      "0 1 2\n",
      "0 2 3\n",
      "0 3 2\n",
      "0 4 3\n",
      "0 5 4\n",
      "0 6 3\n",
      "0 7 2\n",
      "0 8 3\n",
      "0 9 2\n",
      "1 0 2\n",
      "1 1 2\n",
      "1 2 2\n",
      "1 3 5\n",
      "1 4 2\n",
      "1 5 2\n",
      "1 6 2\n",
      "1 7 2\n",
      "1 8 5\n",
      "1 9 2\n",
      "2 0 3\n",
      "2 1 5\n",
      "2 2 3\n",
      "2 3 2\n",
      "2 4 3\n",
      "2 5 2\n",
      "2 6 6\n",
      "2 7 2\n",
      "2 8 3\n",
      "2 9 2\n",
      "3 0 2\n",
      "3 1 2\n",
      "3 2 2\n",
      "3 3 2\n",
      "3 4 5\n",
      "3 5 2\n",
      "3 6 2\n",
      "3 7 2\n",
      "3 8 2\n",
      "3 9 5\n",
      "4 0 3\n",
      "4 1 2\n",
      "4 2 6\n",
      "4 3 2\n",
      "4 4 3\n",
      "4 5 2\n",
      "4 6 3\n",
      "4 7 5\n",
      "4 8 3\n",
      "4 9 2\n",
      "5 0 4\n",
      "5 1 2\n",
      "5 2 2\n",
      "5 3 2\n",
      "5 4 2\n",
      "5 5 4\n",
      "5 6 2\n",
      "5 7 2\n",
      "5 8 2\n",
      "5 9 2\n",
      "6 0 3\n",
      "6 1 2\n",
      "6 2 3\n",
      "6 3 5\n",
      "6 4 3\n",
      "6 5 2\n",
      "6 6 3\n",
      "6 7 2\n",
      "6 8 6\n",
      "6 9 2\n",
      "7 0 2\n",
      "7 1 5\n",
      "7 2 2\n",
      "7 3 2\n",
      "7 4 2\n",
      "7 5 2\n",
      "7 6 5\n",
      "7 7 2\n",
      "7 8 2\n",
      "7 9 2\n",
      "8 0 3\n",
      "8 1 2\n",
      "8 2 3\n",
      "8 3 2\n",
      "8 4 6\n",
      "8 5 2\n",
      "8 6 3\n",
      "8 7 2\n",
      "8 8 3\n",
      "8 9 5\n",
      "9 0 2\n",
      "9 1 2\n",
      "9 2 5\n",
      "9 3 2\n",
      "9 4 2\n",
      "9 5 2\n",
      "9 6 2\n",
      "9 7 5\n",
      "9 8 2\n",
      "9 9 2\n"
     ]
    }
   ],
   "source": [
    "\n",
    "for i in range(100):\n",
    "  list_of_bracelets[i].append(False)\n",
    "\n",
    "counter = 0\n",
    "\n",
    "#checking to see which bracelets are non-distinct\n",
    "for i in range(100):\n",
    "  if list_of_bracelets[i][-1] == False:\n",
    "    counter += 1\n",
    "    list_of_bracelets[i][-1] = counter\n",
    "    for j in range(100):\n",
    "      for k in range((len(list_of_bracelets[j]))-2):\n",
    "        if list_of_bracelets[j][k] == list_of_bracelets[i][0] and list_of_bracelets[j][k+1] == list_of_bracelets[i][1]:\n",
    "          list_of_bracelets[j][-1] = counter\n",
    "\n",
    "print(counter)\n",
    "\n",
    "#outputting which intial values correspond to each particular distinct bracelet\n",
    "for i in range(100):\n",
    "  print(list_of_bracelets[i][0], list_of_bracelets[i][1], list_of_bracelets[i][-1])\n"
   ]
  },
  {
   "cell_type": "code",
   "execution_count": 8,
   "metadata": {
    "colab": {
     "base_uri": "https://localhost:8080/",
     "height": 251
    },
    "id": "XdSMrvrsp3Fq",
    "outputId": "e0df04de-deef-4e3e-8b28-c93153921ef0"
   },
   "outputs": [
    {
     "data": {
      "image/png": "[encoded data removed]",
      "text/plain": [
       "<Figure size 144x144 with 1 Axes>"
      ]
     },
     "metadata": {
      "needs_background": "light"
     },
     "output_type": "display_data"
    }
   ],
   "source": [
    "import matplotlib.pyplot as plt\n",
    "from matplotlib.ticker import MaxNLocator\n",
    "import numpy as np\n",
    "\n",
    "#plotting a visual representation of which initial values generate each distinct bracelet\n",
    "plt.style.use('_mpl-gallery-nogrid')\n",
    "\n",
    "brace_number = np.zeros((10,10))\n",
    "for i in range(10):\n",
    "  for j in range(10):\n",
    "    brace_number[i,j] = list_of_bracelets[i*10+j][-1]\n",
    "\n",
    "fig, ax = plt.subplots()\n",
    "\n",
    "ax.imshow(brace_number, origin='lower', cmap=\"rainbow\", aspect=\"equal\")\n",
    "ax.xaxis.set_major_locator(MaxNLocator(integer=True))\n",
    "ax.yaxis.set_major_locator(MaxNLocator(integer=True))\n",
    "ax.set_ylabel(\"a(0)\")\n",
    "ax.set_xlabel(\"a(1)\")\n",
    "plt.show()"
   ]
  },
  {
   "cell_type": "code",
   "execution_count": null,
   "metadata": {},
   "outputs": [],
   "source": []
  }
 ],
 "metadata": {
  "colab": {
   "provenance": []
  },
  "kernelspec": {
   "display_name": "Python 3 (ipykernel)",
   "language": "python",
   "name": "python3"
  },
  "language_info": {
   "codemirror_mode": {
    "name": "ipython",
    "version": 3
   },
   "file_extension": ".py",
   "mimetype": "text/x-python",
   "name": "python",
   "nbconvert_exporter": "python",
   "pygments_lexer": "ipython3",
   "version": "3.9.12"
  }
 },
 "nbformat": 4,
 "nbformat_minor": 1
}
